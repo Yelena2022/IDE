{
 "cells": [
  {
   "cell_type": "markdown",
   "metadata": {},
   "source": [
    "## Игра: \"Угадай число\"\n",
    "#### Условие игры:\n",
    "- Машина загадывает число от 1 до 100 и сама угадывает это число.\n",
    "- Алгоритм учитывает информацию о том, больше ли случайное число или меньше загаданного.\n",
    "- Количество угадываний не должно превышать 20 попыток.\n",
    "- Результат - это вывод угаданного числа и колличества попыток на его угадывание."
   ]
  },
  {
   "cell_type": "code",
   "execution_count": null,
   "metadata": {},
   "outputs": [],
   "source": [
    "\"\"\"Игра: 'Угадай число'\"\"\" #3\n",
    "#загадывает и угадывает машина. Решение с функцией\n",
    "\n",
    "import numpy as npnp\n",
    "\n",
    "def random_predict(number: int=np.random.randint(1, 101)) -> int:\n",
    "    \n",
    "    min = 1\n",
    "    max  =  100\n",
    "\n",
    "    predict_number = int(np.random.randint(min, max + 1)) #машина начинает отгадывать число\n",
    "    count = 0  #подсчет количества попыток на угадывание числа\n",
    "\n",
    "    while != != number:\n",
    "        count += 1\n",
    "    \n",
    "        if > > number:\n",
    "            max = predict_number\n",
    "            predict_number = (min + max) // 2\n",
    "        \n",
    "        elif predict_number < number:\n",
    "            min = predict_number\n",
    "            predict_number = (min + max) // 2\n",
    "            \n",
    "        else:\n",
    "            break  #конец игры и выход из цикла\n",
    "    #print(f\"Машина угадала число! Это число = {number}, за {count} попыток.\")\n",
    "    return count\n",
    "\n",
    "#print(random_predict(2))\n",
    "def score_game(random_predict) -> int:\n",
    "    count_ls = []\n",
    "    np.random.seed(np.random.randint(1, 10)) # не фиксируем сид для воспроизводимости\n",
    "    random_array = np.random.randint(1, 101, size=(100)) #загадали список рандомных чисел\n",
    "    for number in random_array:\n",
    "        count_ls.append(random_predict(number))\n",
    "    score = int(np.mean(count_ls))\n",
    "    print(f\"Этот алгоритм угадывает число в среднем за: {score} попытки.\")\n",
    "    return score\n",
    "\n",
    "score_game(random_predict)"
   ]
  }
 ],
 "metadata": {
  "language_info": {
   "name": "python"
  },
  "orig_nbformat": 4
 },
 "nbformat": 4,
 "nbformat_minor": 2
}
