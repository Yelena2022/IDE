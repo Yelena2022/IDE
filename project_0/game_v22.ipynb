{
 "cells": [
  {
   "cell_type": "markdown",
   "metadata": {},
   "source": [
    "## Игра: \"Угадай число\"\n",
    "#### Условие игры:\n",
    "- Машина загадывает число от 1 до 100 и сама угадывает это число.\n",
    "- Алгоритм учитывает информацию о том, больше ли случайное число или меньше загаданного.\n",
    "- Результат - это вывод угаданного числа и колличества попыток на его угадывание."
   ]
  },
  {
   "cell_type": "code",
   "execution_count": null,
   "metadata": {},
   "outputs": [],
   "source": [
    "\"\"\"Игра: \"Угадай число\"\"\" #2\n",
    "\n",
    "import numpy as np\n",
    "\n",
    "min = 1\n",
    "max  =  100\n",
    "\n",
    "number = np.random.randint(min, max + 1) #машина загадывает число\n",
    "count = 0  #подсчет количества попыток угадываний\n",
    "while True:\n",
    "    count  += 1\n",
    "    X = int((min + max)/2)\n",
    "    \n",
    "    if mid > number:\n",
    "        max = mid\n",
    "        \n",
    "    elif mid < number:\n",
    "        min = mid\n",
    "            \n",
    "    else:\n",
    "        print(f\"Машина угадала число! Это число = {number}, за {count} попыток.\")\n",
    "        break  #конец игры и выход из цикла"
   ]
  }
 ],
 "metadata": {
  "language_info": {
   "name": "python"
  },
  "orig_nbformat": 4
 },
 "nbformat": 4,
 "nbformat_minor": 2
}
