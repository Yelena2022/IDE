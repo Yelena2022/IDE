{
 "cells": [
  {
   "cell_type": "markdown",
   "metadata": {},
   "source": [
    "## Игра: \"Угадай число\"\n",
    " ### Условие соревнования:\n",
    " - Машина загадывает целое число от 1 до 100, а пользователь должен его угадать.\n",
    " - Результат - это вывод угаданного числа и колличества попыток на его угадывание."
   ]
  },
  {
   "cell_type": "code",
   "execution_count": 3,
   "metadata": {},
   "outputs": [],
   "source": [
    "import game_v21"
   ]
  },
  {
   "cell_type": "markdown",
   "metadata": {},
   "source": [
    "##### Заключение - мы научились создавать игру \"генератор случайных чисел\", где загадывает машина, а угадывает пользователь. "
   ]
  }
 ],
 "metadata": {
  "kernelspec": {
   "display_name": "Python 3.8.7 64-bit",
   "language": "python",
   "name": "python3"
  },
  "language_info": {
   "codemirror_mode": {
    "name": "ipython",
    "version": 3
   },
   "file_extension": ".py",
   "mimetype": "text/x-python",
   "name": "python",
   "nbconvert_exporter": "python",
   "pygments_lexer": "ipython3",
   "version": "3.8.7"
  },
  "orig_nbformat": 4,
  "vscode": {
   "interpreter": {
    "hash": "a54145b57ea722967bfd6b534e4969e56ea11d54a6f588513177405e6034be65"
   }
  }
 },
 "nbformat": 4,
 "nbformat_minor": 2
}
