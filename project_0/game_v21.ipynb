{
 "cells": [
  {
   "cell_type": "markdown",
   "metadata": {},
   "source": [
    "## Игра: \"Угадай число\"\n",
    " ### Условие соревнования:\n",
    " - Машина загадывает целое число от 1 до 100, а пользователь должен его угадать.\n",
    " - Результат - это вывод угаданного числа и колличества попыток на его угадывание."
   ]
  },
  {
   "cell_type": "code",
   "execution_count": null,
   "metadata": {},
   "outputs": [],
   "source": [
    "\"\"\"Игра: 'Угадай число'\"\"\" #1 Угадывает человек(вводит число)\n",
    "\n",
    "import numpy as np\n",
    "\n",
    "number = np.random.randint(1, 101)  #загадываем число\n",
    "count = 0  #подсчет количества попыток\n",
    "\n",
    "while True:\n",
    "    count += 1\n",
    "    predict_number = int(input(\"Угадай число от 1 до 100: \"))\n",
    "    \n",
    "    if predict_number > number:\n",
    "        print(\"Число должно быть меньше!\")\n",
    "\n",
    "    elif predict_number < number:\n",
    "        print(\"Число должно быть больше!\")\n",
    "    \n",
    "    else:\n",
    "        print(f\"Вы угадали число! Это число = {number}, за {count} попыток.\")\n",
    "        break  #конец игры и выход из цикла"
   ]
  }
 ],
 "metadata": {
  "language_info": {
   "name": "python"
  },
  "orig_nbformat": 4
 },
 "nbformat": 4,
 "nbformat_minor": 2
}
