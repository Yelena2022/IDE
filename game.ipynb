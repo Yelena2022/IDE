{
 "cells": [
  {
   "cell_type": "markdown",
   "metadata": {},
   "source": [
    "## Игра Угадай число.  Файл Юпитер-Ноутбук .ipynb"
   ]
  },
  {
   "cell_type": "code",
   "execution_count": 1,
   "metadata": {},
   "outputs": [
    {
     "name": "stdout",
     "output_type": "stream",
     "text": [
      "количество попыток: 444\n"
     ]
    }
   ],
   "source": [
    "import game_v2"
   ]
  },
  {
   "cell_type": "code",
   "execution_count": 5,
   "metadata": {},
   "outputs": [
    {
     "name": "stdout",
     "output_type": "stream",
     "text": [
      "Ваш алгоритм угадывает число в среднем за:483 попыток\n"
     ]
    },
    {
     "data": {
      "text/plain": [
       "483"
      ]
     },
     "execution_count": 5,
     "metadata": {},
     "output_type": "execute_result"
    }
   ],
   "source": [
    "game_v2.score_game(game_v2.random_predict)"
   ]
  },
  {
   "cell_type": "code",
   "execution_count": null,
   "metadata": {},
   "outputs": [
    {
     "ename": "",
     "evalue": "",
     "output_type": "error",
     "traceback": [
      "\u001b[1;31mНе удалось запустить ядро. \n",
      "\u001b[1;31mНе удалось запустить ядро \"Python 3.8.7 64-bit\", так как истекло время ожидания подключения. \n",
      "\u001b[1;31mДополнительные сведения см. в <a href='command:jupyter.viewOutput'>журнале Jupyter</a>."
     ]
    }
   ],
   "source": [
    "from game_v2 import score_game\n",
    "from game_v2 import random_predict"
   ]
  }
 ],
 "metadata": {
  "kernelspec": {
   "display_name": "Python 3.8.7 64-bit (system)",
   "language": "python",
   "name": "python3"
  },
  "language_info": {
   "codemirror_mode": {
    "name": "ipython",
    "version": 3
   },
   "file_extension": ".py",
   "mimetype": "text/x-python",
   "name": "python",
   "nbconvert_exporter": "python",
   "pygments_lexer": "ipython3",
   "version": "3.8.7"
  },
  "orig_nbformat": 4,
  "vscode": {
   "interpreter": {
    "hash": "a54145b57ea722967bfd6b534e4969e56ea11d54a6f588513177405e6034be65"
   }
  }
 },
 "nbformat": 4,
 "nbformat_minor": 2
}
